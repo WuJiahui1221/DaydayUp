{
 "cells": [
  {
   "cell_type": "code",
   "execution_count": 1,
   "metadata": {},
   "outputs": [
    {
     "name": "stdout",
     "output_type": "stream",
     "text": [
      "工作日的努力参数应为0.031\n"
     ]
    }
   ],
   "source": [
    "def dayUP(df): \n",
    "    dayup = 1 \n",
    "    for i in range(365): \n",
    "        if i % 4 in [0,1]: \n",
    "            dayup = dayup * (1 - 0.01) \n",
    "        else : \n",
    "            dayup = dayup * (1 + dayfactor) \n",
    "    return dayup \n",
    "dayfactor = 0.01 \n",
    "while dayUP(dayfactor) < 37.78 : \n",
    "    dayfactor += 0.001 \n",
    "print(\"工作日的努力参数应为{:.3f}\".format(dayfactor))"
   ]
  },
  {
   "cell_type": "code",
   "execution_count": null,
   "metadata": {},
   "outputs": [],
   "source": []
  }
 ],
 "metadata": {
  "kernelspec": {
   "display_name": "Python 3",
   "language": "python",
   "name": "python3"
  },
  "language_info": {
   "codemirror_mode": {
    "name": "ipython",
    "version": 3
   },
   "file_extension": ".py",
   "mimetype": "text/x-python",
   "name": "python",
   "nbconvert_exporter": "python",
   "pygments_lexer": "ipython3",
   "version": "3.8.5"
  }
 },
 "nbformat": 4,
 "nbformat_minor": 4
}
